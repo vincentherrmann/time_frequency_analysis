{
 "cells": [
  {
   "cell_type": "markdown",
   "metadata": {},
   "source": [
    "# Setup"
   ]
  },
  {
   "cell_type": "markdown",
   "metadata": {},
   "source": [
    "https://github.com/vincentherrmann/time_frequency_analysis\n",
    "\n",
    "http://librosa.github.io/librosa/index.html"
   ]
  },
  {
   "cell_type": "code",
   "execution_count": null,
   "metadata": {},
   "outputs": [],
   "source": [
    "#!pip install numpy\n",
    "#!pip install librosa\n",
    "#!pip install matplotlib\n",
    "#!pip install bokeh"
   ]
  },
  {
   "cell_type": "code",
   "execution_count": null,
   "metadata": {},
   "outputs": [],
   "source": [
    "import numpy as np\n",
    "import librosa as lr\n",
    "from scipy import signal\n",
    "from scipy import misc\n",
    "from librosa import display\n",
    "from IPython import display\n",
    "from IPython.display import Audio\n",
    "from ipywidgets import interact\n",
    "from bokeh.plotting import figure\n",
    "from bokeh.io import push_notebook, output_notebook, show#, gridplot\n",
    "from bokeh.layouts import gridplot\n",
    "import matplotlib\n",
    "import math\n",
    "from matplotlib import pyplot as plt\n",
    "\n",
    "output_notebook()\n",
    "%matplotlib notebook"
   ]
  },
  {
   "cell_type": "code",
   "execution_count": null,
   "metadata": {},
   "outputs": [],
   "source": [
    "plot_scale = 1."
   ]
  },
  {
   "cell_type": "markdown",
   "metadata": {},
   "source": [
    "# Zeit-Frequenz Analyse\n",
    "![pic](title_graphic.png)"
   ]
  },
  {
   "cell_type": "code",
   "execution_count": null,
   "metadata": {},
   "outputs": [],
   "source": [
    "l = 512\n",
    "x = np.linspace(0, 1, l)\n",
    "patch_x = np.concatenate([[0], x, [1]])\n",
    "window = lr.filters.get_window('hann', l)\n",
    "window = np.concatenate([[0], np.linspace(0, 1, l//2 - 1), np.linspace(1, 0, l//2 - 1), [0]])\n",
    "analysis_freq = 6.\n",
    "\n",
    "regular_plot = figure(title=\"regular window\", \n",
    "                      plot_height=int(plot_scale*300), plot_width=int(plot_scale*800), y_range=(-1.2,1.2))\n",
    "regular_prod_plot = figure(plot_height=int(plot_scale*300), plot_width=int(plot_scale*800), y_range=(-1.2,1.2))\n",
    "grid = gridplot([[regular_plot], [regular_prod_plot]])\n",
    "\n",
    "real_analysis = np.cos(analysis_freq * 2 * np.pi * x) * window\n",
    "imag_analysis = np.sin(analysis_freq * 2 * np.pi * x) * window\n",
    "\n",
    "signal_plot = regular_plot.line(x=x, y=x, color=\"#aaaaaa\", line_width=4)\n",
    "real_analysis_plot = regular_plot.line(x=x, y=real_analysis, color=\"#2222aa\", line_width=2)\n",
    "imag_analysis_plot = regular_plot.line(x=x, y=imag_analysis, color=\"#aa2222\", line_width=2)\n",
    "real_product_plot = regular_prod_plot.patch(x=patch_x, y=patch_x, color=\"#2222aa\", alpha=0.5) \n",
    "imag_product_plot = regular_prod_plot.patch(x=patch_x, y=patch_x, color=\"#aa2222\", alpha=0.5) \n",
    "abs_sum_plot = regular_prod_plot.line(x=[0., 1.], y=[0., 0.], color=\"#aaaaaa\", line_width=4)\n",
    "real_sum_plot = regular_prod_plot.line(x=[0., 1.], y=[0., 0.], color=\"#2222aa\", line_width=2)\n",
    "imag_sum_plot = regular_prod_plot.line(x=[0., 1.], y=[0., 0.], color=\"#aa2222\", line_width=2)\n",
    "\n",
    "def update_analysis_plot(freq=6., phi=0., complex=False):\n",
    "    sig = np.cos(freq * 2 * np.pi * x + phi)\n",
    "    \n",
    "    real_prod = sig * real_analysis\n",
    "    imag_prod = sig * imag_analysis\n",
    "    real_sum = np.sum(real_prod) / l\n",
    "    imag_sum = np.sum(imag_prod) / l\n",
    "    abs_sum = np.sqrt(real_sum**2 + imag_sum**2)\n",
    "    \n",
    "    signal_plot.data_source.data['y'] = sig\n",
    "    real_product_plot.data_source.data['y'] = real_prod\n",
    "    imag_product_plot.data_source.data['y'] = imag_prod\n",
    "    abs_sum_plot.data_source.data['y'] = [abs_sum, abs_sum]\n",
    "    real_sum_plot.data_source.data['y'] = [real_sum, real_sum]\n",
    "    imag_sum_plot.data_source.data['y'] = [imag_sum, imag_sum]\n",
    "    \n",
    "    \n",
    "    if complex is True:\n",
    "       abs_sum_plot.visible = True\n",
    "       imag_analysis_plot.visible = True\n",
    "       imag_product_plot.visible = True\n",
    "       imag_sum_plot.visible = True\n",
    "    else:\n",
    "       abs_sum_plot.visible = False\n",
    "       imag_analysis_plot.visible = False\n",
    "       imag_product_plot.visible = False\n",
    "       imag_sum_plot.visible = False\n",
    "    \n",
    "    push_notebook()  \n",
    "\n",
    "show(grid, notebook_handle=True)"
   ]
  },
  {
   "cell_type": "code",
   "execution_count": null,
   "metadata": {},
   "outputs": [],
   "source": [
    "interact(update_analysis_plot, freq=(0., 10., 0.1), phi=(0, 6.28, 0.1), complex=False)"
   ]
  },
  {
   "cell_type": "code",
   "execution_count": null,
   "metadata": {},
   "outputs": [],
   "source": [
    "def wigner_ville_distribution(x, t=None, N=None):      \n",
    "    if t is None: \n",
    "        t = np.arange(len(x))\n",
    "    if N is None: \n",
    "        N = len(x)\n",
    "    \n",
    "    trow = 1\n",
    "    tcol = t.shape[0]\n",
    "\n",
    "    xrow = 1\n",
    "    xcol = x.shape[0]\n",
    "    \n",
    "    tfr = np.zeros([N, tcol], dtype='complex')\n",
    "\n",
    "    for icol in range(tcol):\n",
    "        ti = t[icol]\n",
    "        taumax = min([ti, xcol-ti-1, int(round(N/2.0))-1])\n",
    "        tau = np.arange(-taumax, taumax+1)\n",
    "        indices = ((N+tau)%N)\n",
    "        tfr[np.ix_(indices, [icol])] = np.transpose(np.array(x[ti+tau] * np.conj(x[ti-tau]), ndmin=2))\n",
    "        tau=int(round(N/2))+1\n",
    "        if ((ti+1) <= (xcol-tau)) and ((ti+1) >= (tau+1)):\n",
    "            if(tau >= tfr.shape[0]): \n",
    "                tfr = np.append(tfr, zeros([1, tcol]), axis=0)\n",
    "            tfr[np.ix_([tau], [icol])] = np.array(0.5 * (x[ti+tau] * np.conj(x[ti-tau]) + x[ti-tau] * np.conj(x[ti+tau])))\n",
    "    \n",
    "    tfr = np.fft.fft(tfr, axis=0)\n",
    "    f = 0.5*np.arange(N)/float(N)\n",
    "    return (tfr, t, f )"
   ]
  },
  {
   "cell_type": "markdown",
   "metadata": {},
   "source": [
    "*Quellen:*\n",
    "\n",
    "http://www.frank-zalkow.de/en/code-snippets/the-wigner-ville-distribution-with-python.html\n",
    "\n",
    "F. Auger, P. Flandrin “Improving the Readability of Time-Frequency and Time-Scale Representations by the Reassignment Method” IEEE Transactions on Signal Processing, Vol. 43, No. 5, pp. 1068-89, 1995."
   ]
  },
  {
   "cell_type": "markdown",
   "metadata": {},
   "source": [
    "## Short Time Fourier Transform"
   ]
  },
  {
   "cell_type": "code",
   "execution_count": null,
   "metadata": {},
   "outputs": [],
   "source": [
    "l = 512\n",
    "window_length = 512\n",
    "frame_frequencies = [8., 16., 24.]\n",
    "\n",
    "window_x = np.linspace(0, 2*np.pi, l)\n",
    "window = np.concatenate([lr.filters.get_window('hann', window_length), np.zeros(l-window_length)])\n",
    "\n",
    "\n",
    "fig, (td, fd) = plt.subplots(1, 2, figsize=[plot_scale*10, plot_scale*6])\n",
    "\n",
    "wvd = 0\n",
    "for freq in frame_frequencies:\n",
    "    ts = window * np.exp(-1j * freq * window_x)*2\n",
    "    td.plot(np.real(ts) + freq, color='blue')\n",
    "    td.plot(np.imag(ts) + freq, color='red')\n",
    "    ts_wvd, _, _ = wigner_ville_distribution(ts, t=np.arange(l), N=l*4)\n",
    "    wvd += ts_wvd\n",
    "wvd_abs = np.abs(wvd)\n",
    "wvd_max = np.max(wvd_abs)\n",
    "    \n",
    "td.set_ylim(0, 32)\n",
    "td.axis('off')\n",
    "\n",
    "fd.matshow(wvd_abs[-l//2:, :], \n",
    "           origin='upper', aspect='auto', interpolation='bicubic', extent=[0, window_length, 0, 32], \n",
    "           cmap='RdBu', vmin=-wvd_max, vmax=np.max(np.abs(wvd)))\n",
    "fd.set_xlabel('time')\n",
    "fd.set_ylabel('frequency')"
   ]
  },
  {
   "cell_type": "code",
   "execution_count": null,
   "metadata": {},
   "outputs": [],
   "source": [
    "sr = 22050"
   ]
  },
  {
   "cell_type": "code",
   "execution_count": null,
   "metadata": {},
   "outputs": [],
   "source": [
    "voice, _ = lr.core.load('voice.wav', sr=sr)\n",
    "Audio(voice, rate=sr)"
   ]
  },
  {
   "cell_type": "code",
   "execution_count": null,
   "metadata": {},
   "outputs": [],
   "source": [
    "queen, _ = lr.core.load('queen.wav', sr=sr)\n",
    "Audio(queen, rate=sr)"
   ]
  },
  {
   "cell_type": "code",
   "execution_count": null,
   "metadata": {},
   "outputs": [],
   "source": [
    "mahler, _ = lr.core.load('mahler.wav', sr=sr)\n",
    "Audio(mahler, rate=sr)"
   ]
  },
  {
   "cell_type": "code",
   "execution_count": null,
   "metadata": {},
   "outputs": [],
   "source": [
    "brahms, _ = lr.core.load('brahms.wav', sr=sr)\n",
    "Audio(brahms, rate=sr)"
   ]
  },
  {
   "cell_type": "code",
   "execution_count": null,
   "metadata": {},
   "outputs": [],
   "source": [
    "celli, _ = lr.core.load('celli.wav', sr=sr)\n",
    "Audio(celli, rate=sr)"
   ]
  },
  {
   "cell_type": "code",
   "execution_count": null,
   "metadata": {},
   "outputs": [],
   "source": [
    "signal = voice\n",
    "n_fft = 1024\n",
    "hop_length = 256\n",
    "stft = lr.core.stft(signal, n_fft=n_fft, hop_length=hop_length)\n",
    "stft_abs = np.abs(stft)\n",
    "\n",
    "fig, ax = plt.subplots(1, 1, figsize=[plot_scale*8, plot_scale*8])\n",
    "lr.display.specshow(lr.amplitude_to_db(stft_abs**2,\n",
    "                                       ref=np.max),\n",
    "                    y_axis='linear', x_axis='time', hop_length=hop_length, sr=sr)\n",
    "Audio(signal, rate=sr)"
   ]
  },
  {
   "cell_type": "markdown",
   "metadata": {},
   "source": [
    "## FFT"
   ]
  },
  {
   "cell_type": "code",
   "execution_count": null,
   "metadata": {
    "scrolled": false
   },
   "outputs": [],
   "source": [
    "fft_size = 2\n",
    "resolution = 512\n",
    "fft_x_res = np.linspace(0, fft_size, resolution, endpoint=False)\n",
    "fft_x = np.linspace(0, fft_size, fft_size, endpoint=False)\n",
    "fft_matrix = np.zeros([fft_size, fft_size])\n",
    "\n",
    "fig, ax = plt.subplots()\n",
    "for i in range(fft_size):\n",
    "    ax.plot(fft_x_res, np.cos(2 * np.pi * (fft_x_res / fft_size) * (i+1)), color='blue')\n",
    "    fft_matrix[:, i] = np.cos(2 * np.pi * (fft_x / fft_size) * (i+1))\n",
    "ax.set_ylim(-1.2, 1.2)\n",
    "ax.set_yticks([])\n",
    "ax.set_xticks(fft_x)\n",
    "ax.grid()\n",
    "\n",
    "# detect intersections\n",
    "points_x = []\n",
    "points_y = []\n",
    "for t in range(fft_size):\n",
    "    dx = np.abs(fft_matrix[t, :, np.newaxis] - fft_matrix[t, np.newaxis, :])\n",
    "    for i in range(0, fft_size):\n",
    "        for j in range(i+1, fft_size):\n",
    "            if dx[i, j] < 0.0001:\n",
    "                points_x.append(t)\n",
    "                points_y.append(fft_matrix[t, i])\n",
    "\n",
    "ax.plot(points_x, points_y, 'ro', markersize=8)"
   ]
  },
  {
   "cell_type": "markdown",
   "metadata": {},
   "source": [
    "## Rekonstruktion"
   ]
  },
  {
   "cell_type": "code",
   "execution_count": null,
   "metadata": {},
   "outputs": [],
   "source": [
    "signal = voice\n",
    "n_fft = 512\n",
    "hop_length = n_fft // 4\n",
    "stft = lr.core.stft(signal, n_fft=n_fft, hop_length=hop_length)\n",
    "stft_abs = np.abs(stft)\n",
    "Audio(signal, rate=sr)"
   ]
  },
  {
   "cell_type": "markdown",
   "metadata": {},
   "source": [
    "### Zero Phase"
   ]
  },
  {
   "cell_type": "code",
   "execution_count": null,
   "metadata": {},
   "outputs": [],
   "source": [
    "zero_phase_stft = stft_abs * np.exp(1j * 0)\n",
    "zero_phase_reconstruction = lr.core.istft(zero_phase_stft, hop_length=hop_length)\n",
    "Audio(zero_phase_reconstruction, rate=sr)"
   ]
  },
  {
   "cell_type": "markdown",
   "metadata": {},
   "source": [
    "### Random Phase"
   ]
  },
  {
   "cell_type": "code",
   "execution_count": null,
   "metadata": {},
   "outputs": [],
   "source": [
    "noise = np.random.rand(signal.shape[0])\n",
    "noise_stft = lr.core.stft(noise, n_fft=n_fft, hop_length=hop_length)\n",
    "noisy_phase_stft = stft_abs * np.exp(1j * np.angle(noise_stft))\n",
    "noisy_phase_reconstruction = lr.core.istft(noisy_phase_stft, hop_length=hop_length)\n",
    "Audio(noisy_phase_reconstruction, rate=sr)"
   ]
  },
  {
   "cell_type": "markdown",
   "metadata": {},
   "source": [
    "### Griffin-Lim\n",
    "Die nächste Zelle mehrfach ausführen"
   ]
  },
  {
   "cell_type": "code",
   "execution_count": null,
   "metadata": {
    "scrolled": false
   },
   "outputs": [],
   "source": [
    "reconstruction_stft = lr.core.stft(noisy_phase_reconstruction, n_fft=n_fft, hop_length=hop_length)\n",
    "reconstruction_stft_abs = np.abs(reconstruction_stft)\n",
    "\n",
    "fig, ax = plt.subplots(1, 1, figsize=[plot_scale*8, plot_scale*8])\n",
    "lr.display.specshow(lr.amplitude_to_db(reconstruction_stft_abs**2,\n",
    "                                       ref=np.max),\n",
    "                    y_axis='linear', x_axis='time', hop_length=hop_length, sr=sr)\n",
    "\n",
    "corrected_stft = stft_abs * np.exp(1j * np.angle(reconstruction_stft))\n",
    "noisy_phase_reconstruction = lr.core.istft(corrected_stft, hop_length=hop_length)\n",
    "Audio(noisy_phase_reconstruction, rate=sr)"
   ]
  },
  {
   "cell_type": "code",
   "execution_count": null,
   "metadata": {},
   "outputs": [],
   "source": [
    "def reconstruct_griffin_lim(stft_abs, hop_length, iterations=100):\n",
    "    n_fft = int((stft_abs.shape[0]-1) * 2)\n",
    "    time_slices = stft_abs.shape[1] - 1\n",
    "    len_samples = int(time_slices*hop_length)\n",
    "    reconstructed_signal = np.random.randn(len_samples)\n",
    "    for i in range(iterations):\n",
    "        reconstruction_stft = lr.core.stft(reconstructed_signal, n_fft=n_fft, hop_length=hop_length)\n",
    "        corrected_stft = stft_abs * np.exp(1.0j * np.angle(reconstruction_stft))\n",
    "        reconstructed_signal = lr.core.istft(corrected_stft, hop_length=hop_length)\n",
    "    return reconstructed_signal"
   ]
  },
  {
   "cell_type": "code",
   "execution_count": null,
   "metadata": {},
   "outputs": [],
   "source": [
    "reconstructed = reconstruct_griffin_lim(stft_abs, hop_length=hop_length, iterations=100)\n",
    "Audio(reconstructed, rate=sr)"
   ]
  },
  {
   "cell_type": "code",
   "execution_count": null,
   "metadata": {},
   "outputs": [],
   "source": [
    "picture = misc.imread('spec_draw_1.png', mode='F')\n",
    "picture = (np.max(picture) - picture[::-1, :]) / np.max(picture)\n",
    "\n",
    "fig, ax = plt.subplots(1, 1, figsize=[plot_scale*8, plot_scale*8])\n",
    "lr.display.specshow(lr.amplitude_to_db(picture**2,\n",
    "                                       ref=np.max),\n",
    "                    y_axis='linear', x_axis='time', hop_length=hop_length, sr=sr)\n",
    "\n",
    "reconstructed = reconstruct_griffin_lim(picture, hop_length=hop_length, iterations=100)\n",
    "Audio(reconstructed, rate=sr)"
   ]
  },
  {
   "cell_type": "markdown",
   "metadata": {},
   "source": [
    "## Mel Spektogramm und MFCC"
   ]
  },
  {
   "cell_type": "markdown",
   "metadata": {},
   "source": [
    "### Mel Scale"
   ]
  },
  {
   "cell_type": "code",
   "execution_count": null,
   "metadata": {},
   "outputs": [],
   "source": [
    "l = 512\n",
    "midi_sweep = np.linspace(21, 108, 88)\n",
    "hz_sweep = lr.midi_to_hz(midi_sweep)\n",
    "mel_sweep = lr.hz_to_mel(hz_sweep)\n",
    "\n",
    "fig, (midi, hz, mel) = plt.subplots(3, 1)\n",
    "midi.plot(midi_sweep, midi_sweep)\n",
    "midi.set_ylabel('midi')\n",
    "hz.plot(midi_sweep, hz_sweep)\n",
    "hz.set_ylabel('hz')\n",
    "mel.plot(midi_sweep, mel_sweep)\n",
    "mel.set_ylabel('mel')"
   ]
  },
  {
   "cell_type": "code",
   "execution_count": null,
   "metadata": {},
   "outputs": [],
   "source": [
    "signal = voice\n",
    "n_fft = 1024\n",
    "hop_length = n_fft // 4\n",
    "stft = lr.core.stft(signal, n_fft=n_fft, hop_length=hop_length)\n",
    "stft_abs = np.abs(stft)\n",
    "log_spectogram = lr.amplitude_to_db(stft_abs**2,\n",
    "                                       ref=np.max)\n",
    "\n",
    "fig, ax = plt.subplots(1, 1, figsize=[plot_scale*8, plot_scale*8])\n",
    "lr.display.specshow(log_spectogram,\n",
    "                    y_axis='linear', x_axis='time', hop_length=hop_length, sr=sr)\n",
    "Audio(signal, rate=sr)"
   ]
  },
  {
   "cell_type": "markdown",
   "metadata": {},
   "source": [
    "### Mel Spektogramm"
   ]
  },
  {
   "cell_type": "code",
   "execution_count": null,
   "metadata": {},
   "outputs": [],
   "source": [
    "n_mfcc = 13\n",
    "mel_spectogram = lr.feature.melspectrogram(S=stft_abs**2, sr=sr)\n",
    "log_mel_spectogram = lr.amplitude_to_db(mel_spectogram, ref=np.max)\n",
    "mel_bins = log_mel_spectogram.shape[0]\n",
    "dct_filters = lr.filters.dct(n_mfcc, mel_bins)\n",
    "\n",
    "fig, (ax, dct) = plt.subplots(1, 2, figsize=[plot_scale*12, plot_scale*8], gridspec_kw = {'width_ratios':[3, 1]})\n",
    "for i in range(n_mfcc):\n",
    "    dct.plot(dct_filters[i,:], np.arange(0, log_mel_spectogram.shape[0]), color='blue')\n",
    "dct.set_ylim(0, mel_bins)\n",
    "dct.set_yticks([])\n",
    "dct.set_xlabel('dct filters')\n",
    "dct.set_xticks([])\n",
    "plt.sca(ax)\n",
    "lr.display.specshow(log_mel_spectogram,\n",
    "                    y_axis='mel', x_axis='time', hop_length=hop_length, sr=sr)\n",
    "plt.colorbar()"
   ]
  },
  {
   "cell_type": "markdown",
   "metadata": {},
   "source": [
    "### MFCC\n",
    "Mel Frequency Cepstral Coefficients"
   ]
  },
  {
   "cell_type": "code",
   "execution_count": null,
   "metadata": {},
   "outputs": [],
   "source": [
    "mfccs = lr.feature.mfcc(S=log_mel_spectogram, n_mfcc=n_mfcc)\n",
    "fig, ax = plt.subplots(1, 1, figsize=[plot_scale*8, plot_scale*4])\n",
    "lr.display.specshow(mfccs, x_axis='time', hop_length=hop_length, sr=sr, cmap='viridis')\n",
    "plt.colorbar()"
   ]
  },
  {
   "cell_type": "markdown",
   "metadata": {},
   "source": [
    "*Quellen:*\n",
    "\n",
    "B. Logan \"Mel Frequency Cepstral Coefficients for Music Modeling\" International Symposium on Music Information Retrieval, 2000."
   ]
  },
  {
   "cell_type": "markdown",
   "metadata": {},
   "source": [
    "### MFCC Rekonstruktion"
   ]
  },
  {
   "cell_type": "code",
   "execution_count": null,
   "metadata": {},
   "outputs": [],
   "source": [
    "reconstructed_mel_spectogram = np.dot(np.transpose(dct_filters), mfccs)\n",
    "fix, ax = plt.subplots()\n",
    "lr.display.specshow(reconstructed_mel_spectogram,\n",
    "                    y_axis='mel', x_axis='time', hop_length=hop_length, sr=sr)\n",
    "plt.colorbar()"
   ]
  },
  {
   "cell_type": "code",
   "execution_count": null,
   "metadata": {},
   "outputs": [],
   "source": [
    "melfb = lr.filters.mel(sr, n_fft)\n",
    "reconstructed_spectogram = np.dot(np.linalg.pinv(melfb), reconstructed_mel_spectogram)\n",
    "reconstructed_spectogram *= (np.min(reconstructed_mel_spectogram) / np.min(reconstructed_spectogram))\n",
    "reconstructed_spectogram = np.clip(reconstructed_spectogram, -80, 0)\n",
    "reconstructed_spectogram[melfb.shape[1]-40:, :] = reconstructed_spectogram[melfb.shape[1]-40:, :] * 0 - 80\n",
    "fix, ax = plt.subplots()\n",
    "lr.display.specshow(reconstructed_spectogram,\n",
    "                    y_axis='linear', x_axis='time', hop_length=hop_length, sr=sr)\n",
    "plt.colorbar()"
   ]
  },
  {
   "cell_type": "code",
   "execution_count": null,
   "metadata": {},
   "outputs": [],
   "source": [
    "reconstructed_stft_abs = np.sqrt(lr.db_to_power(reconstructed_spectogram, 1.))\n",
    "reconstructed = reconstruct_griffin_lim(reconstructed_stft_abs, hop_length=hop_length, iterations=100)\n",
    "Audio(reconstructed, rate=sr)"
   ]
  },
  {
   "cell_type": "markdown",
   "metadata": {},
   "source": [
    "## Constant Q (Wavelet) Transform"
   ]
  },
  {
   "cell_type": "code",
   "execution_count": null,
   "metadata": {},
   "outputs": [],
   "source": [
    "l = 512\n",
    "q = 8.\n",
    "frame_frequencies = [8., 16., 24.]\n",
    "\n",
    "window_x = np.linspace(0, 2*np.pi, l)\n",
    "window = lr.filters.get_window('hann', l)\n",
    "wavelet = np.exp(-1j * q * window_x) * window\n",
    "\n",
    "fig, (td, fd) = plt.subplots(1, 2, figsize=[plot_scale*10, plot_scale*6])\n",
    "\n",
    "wvd = 0\n",
    "for freq in frame_frequencies:\n",
    "    width = int(l * q / freq)\n",
    "    this_wavelet = np.interp(np.linspace(0, 2*np.pi, width), window_x, wavelet) / np.sqrt(width) * 30.\n",
    "    if width < l:\n",
    "        this_wavelet = np.pad(this_wavelet, [0, l - width], mode='constant', constant_values=(0, 0))\n",
    "    td.plot(np.real(this_wavelet) + freq, color='blue')\n",
    "    td.plot(np.imag(this_wavelet) + freq, color='red')\n",
    "    ts_wvd, _, _ = wigner_ville_distribution(this_wavelet, t=np.arange(l), N=l*4)\n",
    "    wvd += ts_wvd\n",
    "wvd_abs = np.abs(wvd)\n",
    "wvd_max = np.max(wvd_abs)\n",
    "    \n",
    "td.set_ylim(0, 32)\n",
    "td.axis('off')\n",
    "\n",
    "fd.matshow(wvd_abs[-l//2:, :], \n",
    "           origin='upper', aspect='auto', interpolation='bicubic', extent=[0, window_length, 0, 32], \n",
    "           cmap='RdBu', vmin=-wvd_max, vmax=np.max(np.abs(wvd)))\n",
    "fd.set_xlabel('time')\n",
    "fd.set_ylabel('frequency')"
   ]
  },
  {
   "cell_type": "code",
   "execution_count": null,
   "metadata": {},
   "outputs": [],
   "source": [
    "signal = voice\n",
    "bins_per_octave=24\n",
    "octaves = 7\n",
    "fmin = 30.\n",
    "hop_length=128\n",
    "filter_scale = 1.\n",
    "\n",
    "cqt = lr.core.cqt(signal, sr=sr, hop_length=hop_length, bins_per_octave=bins_per_octave, \n",
    "                  n_bins=bins_per_octave*octaves, fmin=fmin, filter_scale=filter_scale)  \n",
    "\n",
    "fig, ax = plt.subplots(1, 1, figsize=[plot_scale*8, plot_scale*8])\n",
    "lr.display.specshow(lr.amplitude_to_db(np.abs(cqt)**2, ref=np.max),\n",
    "                    y_axis='cqt_note', x_axis='time', hop_length=hop_length, sr=sr, bins_per_octave=bins_per_octave,\n",
    "                    fmin=fmin, cmap='magma')\n",
    "plt.show()\n",
    "Audio(signal, rate=sr)"
   ]
  },
  {
   "cell_type": "markdown",
   "metadata": {},
   "source": [
    "*Quellen*\n",
    "\n",
    "C. Schoerkhuber, A. Klapuri “Constant-Q transform toolbox for music processing” 7th Sound and Music Computing Conference, Barcelona, Spain. 2010."
   ]
  },
  {
   "cell_type": "markdown",
   "metadata": {},
   "source": [
    "## Reassignment"
   ]
  },
  {
   "cell_type": "markdown",
   "metadata": {},
   "source": [
    "### Time Reassignment"
   ]
  },
  {
   "cell_type": "code",
   "execution_count": null,
   "metadata": {},
   "outputs": [],
   "source": [
    "l = 512\n",
    "x = np.linspace(0, 1, l)\n",
    "patch_x = np.concatenate([[0], x, [1]])\n",
    "window = lr.filters.get_window('tri', l)\n",
    "window_tw = window * (x - 0.5) * 6.\n",
    "window_td = np.diff(window) * l / 4.\n",
    "window_td = np.concatenate([[0], window_td[1:], [0]])\n",
    "analysis_freq = 6.\n",
    "\n",
    "regular_plot = figure(title=\"regular window\", plot_height=300, plot_width=500, y_range=(-1.2,1.2))\n",
    "regular_prod_plot = figure(plot_height=300, plot_width=500, y_range=(-1.2,1.2))\n",
    "r_plot = figure(title=\"time derivative window\", plot_height=300, plot_width=500, y_range=(-1.2,1.2))\n",
    "r_prod_plot = figure(plot_height=300, plot_width=500, y_range=(-1.2,1.2))\n",
    "grid = gridplot([[regular_plot, r_plot], [regular_prod_plot, r_prod_plot]])\n",
    "\n",
    "real_analysis = np.cos(analysis_freq * 2 * np.pi * x) * window\n",
    "imag_analysis = np.sin(analysis_freq * 2 * np.pi * x) * window\n",
    "r_real_analysis = np.cos(analysis_freq * 2 * np.pi * x) * window_tw\n",
    "r_imag_analysis = np.sin(analysis_freq * 2 * np.pi * x) * window_tw\n",
    "\n",
    "signal_plot = regular_plot.line(x=x, y=x, color=\"#aaaaaa\", line_width=4)\n",
    "window_plot = regular_plot.line(x=x, y=window, color=\"#22aa22\", line_width=2)\n",
    "real_analysis_plot = regular_plot.line(x=x, y=real_analysis, color=\"#2222aa\", line_width=2)\n",
    "imag_analysis_plot = regular_plot.line(x=x, y=imag_analysis, color=\"#aa2222\", line_width=2)\n",
    "real_product_plot = regular_prod_plot.patch(x=patch_x, y=patch_x, color=\"#2222aa\", alpha=0.5) \n",
    "imag_product_plot = regular_prod_plot.patch(x=patch_x, y=patch_x, color=\"#aa2222\", alpha=0.5) \n",
    "abs_sum_plot = regular_prod_plot.line(x=[0., 1.], y=[0., 0.], color=\"#aaaaaa\", line_width=4)\n",
    "real_sum_plot = regular_prod_plot.line(x=[0., 1.], y=[0., 0.], color=\"#2222aa\", line_width=2)\n",
    "imag_sum_plot = regular_prod_plot.line(x=[0., 1.], y=[0., 0.], color=\"#aa2222\", line_width=2)\n",
    "\n",
    "\n",
    "r_signal_plot = r_plot.line(x=x, y=x, color=\"#aaaaaa\", line_width=4)\n",
    "r_window_plot = r_plot.line(x=x, y=window_tw, color=\"#22aa22\", line_width=2)\n",
    "r_real_analysis_plot = r_plot.line(x=x, y=r_real_analysis, color=\"#2222aa\", line_width=2)\n",
    "r_imag_analysis_plot = r_plot.line(x=x, y=r_imag_analysis, color=\"#aa2222\", line_width=2)\n",
    "r_real_product_plot = r_prod_plot.patch(x=patch_x, y=patch_x, color=\"#2222aa\", alpha=0.5) \n",
    "r_imag_product_plot = r_prod_plot.patch(x=patch_x, y=patch_x, color=\"#aa2222\", alpha=0.5)\n",
    "r_abs_sum_plot = r_prod_plot.line(x=[0., 1.], y=[0., 0.], color=\"#aaaaaa\", line_width=4)\n",
    "r_real_sum_plot = r_prod_plot.line(x=[0., 1.], y=[0., 0.], color=\"#2222aa\", line_width=2)\n",
    "r_imag_sum_plot = r_prod_plot.line(x=[0., 1.], y=[0., 0.], color=\"#aa2222\", line_width=2)\n",
    "\n",
    "\n",
    "def update_reassignment_plot(pos=0.5):\n",
    "    sig = x*0\n",
    "    w = l/analysis_freq * 0.5\n",
    "    sig[max(int(pos*l - w/2 + 0.5), 0):min(int(pos*l + w/2 + 0.5),l)] += 1.0\n",
    "    #sig = np.cos(freq * 2 * np.pi * x + phi)\n",
    "    \n",
    "    real_prod = sig * real_analysis\n",
    "    imag_prod = sig * imag_analysis\n",
    "    real_sum = np.sum(real_prod) / l * analysis_freq\n",
    "    imag_sum = np.sum(imag_prod) / l * analysis_freq\n",
    "    abs_sum = np.sqrt(real_sum**2 + imag_sum**2)\n",
    "    \n",
    "    signal_plot.data_source.data['y'] = sig\n",
    "    real_product_plot.data_source.data['y'] = real_prod\n",
    "    imag_product_plot.data_source.data['y'] = imag_prod\n",
    "    real_sum_plot.data_source.data['y'] = [real_sum, real_sum]\n",
    "    imag_sum_plot.data_source.data['y'] = [imag_sum, imag_sum]\n",
    "    imag_sum_plot.data_source.data['y'] = [imag_sum, imag_sum]\n",
    "    abs_sum_plot.data_source.data['y'] = [abs_sum, abs_sum]\n",
    "    \n",
    "    r_real_prod = sig * r_real_analysis\n",
    "    r_imag_prod = sig * r_imag_analysis\n",
    "    r_real_sum = np.sum(r_real_prod) / l * analysis_freq\n",
    "    r_imag_sum = np.sum(r_imag_prod) / l * analysis_freq\n",
    "    r_abs_sum = np.sqrt(r_real_sum**2 + r_imag_sum**2)\n",
    "    \n",
    "    r_signal_plot.data_source.data['y'] = sig\n",
    "    r_real_product_plot.data_source.data['y'] = r_real_prod\n",
    "    r_imag_product_plot.data_source.data['y'] = r_imag_prod\n",
    "    r_real_sum_plot.data_source.data['y'] = [r_real_sum, r_real_sum]\n",
    "    r_imag_sum_plot.data_source.data['y'] = [r_imag_sum, r_imag_sum]\n",
    "    r_abs_sum_plot.data_source.data['y'] = [r_abs_sum, r_abs_sum]\n",
    "    \n",
    "    push_notebook()    \n",
    "    \n",
    "show(grid, notebook_handle=True)"
   ]
  },
  {
   "cell_type": "code",
   "execution_count": null,
   "metadata": {},
   "outputs": [],
   "source": [
    "interact(update_reassignment_plot, pos=(0., 1., 0.01))"
   ]
  },
  {
   "cell_type": "markdown",
   "metadata": {},
   "source": [
    "### Frequency Reassignment"
   ]
  },
  {
   "cell_type": "code",
   "execution_count": null,
   "metadata": {},
   "outputs": [],
   "source": [
    "l = 512\n",
    "x = np.linspace(0, 1, l)\n",
    "patch_x = np.concatenate([[0], x, [1]])\n",
    "window = lr.filters.get_window('tri', l)\n",
    "window_tw = window + x - 0.5\n",
    "window_td = np.diff(window) * l / 4.\n",
    "window_td = np.concatenate([[0], window_td[1:], [0]])\n",
    "analysis_freq = 6.\n",
    "\n",
    "regular_plot = figure(title=\"regular window\", plot_height=300, plot_width=500, y_range=(-1.2,1.2))\n",
    "regular_prod_plot = figure(plot_height=300, plot_width=500, y_range=(-1.2,1.2))\n",
    "r_plot = figure(title=\"time derivative window\", plot_height=300, plot_width=500, y_range=(-1.2,1.2))\n",
    "r_prod_plot = figure(plot_height=300, plot_width=500, y_range=(-1.2,1.2))\n",
    "grid = gridplot([[regular_plot, r_plot], [regular_prod_plot, r_prod_plot]])\n",
    "\n",
    "real_analysis = np.cos(analysis_freq * 2 * np.pi * x) * window\n",
    "imag_analysis = np.sin(analysis_freq * 2 * np.pi * x) * window\n",
    "r_real_analysis = np.cos(analysis_freq * 2 * np.pi * x) * window_td\n",
    "r_imag_analysis = np.sin(analysis_freq * 2 * np.pi * x) * window_td\n",
    "\n",
    "signal_plot = regular_plot.line(x=x, y=x, color=\"#aaaaaa\", line_width=4)\n",
    "window_plot = regular_plot.line(x=x, y=window, color=\"#22aa22\", line_width=2)\n",
    "real_analysis_plot = regular_plot.line(x=x, y=real_analysis, color=\"#2222aa\", line_width=2)\n",
    "imag_analysis_plot = regular_plot.line(x=x, y=imag_analysis, color=\"#aa2222\", line_width=2)\n",
    "real_product_plot = regular_prod_plot.patch(x=patch_x, y=patch_x, color=\"#2222aa\", alpha=0.5) \n",
    "imag_product_plot = regular_prod_plot.patch(x=patch_x, y=patch_x, color=\"#aa2222\", alpha=0.5) \n",
    "abs_sum_plot = regular_prod_plot.line(x=[0., 1.], y=[0., 0.], color=\"#aaaaaa\", line_width=4)\n",
    "real_sum_plot = regular_prod_plot.line(x=[0., 1.], y=[0., 0.], color=\"#2222aa\", line_width=2)\n",
    "imag_sum_plot = regular_prod_plot.line(x=[0., 1.], y=[0., 0.], color=\"#aa2222\", line_width=2)\n",
    "\n",
    "\n",
    "r_signal_plot = r_plot.line(x=x, y=x, color=\"#aaaaaa\", line_width=4)\n",
    "r_window_plot = r_plot.line(x=x, y=window_td, color=\"#22aa22\", line_width=2)\n",
    "r_real_analysis_plot = r_plot.line(x=x, y=r_real_analysis, color=\"#2222aa\", line_width=2)\n",
    "r_imag_analysis_plot = r_plot.line(x=x, y=r_imag_analysis, color=\"#aa2222\", line_width=2)\n",
    "r_real_product_plot = r_prod_plot.patch(x=patch_x, y=patch_x, color=\"#2222aa\", alpha=0.5) \n",
    "r_imag_product_plot = r_prod_plot.patch(x=patch_x, y=patch_x, color=\"#aa2222\", alpha=0.5)\n",
    "r_abs_sum_plot = r_prod_plot.line(x=[0., 1.], y=[0., 0.], color=\"#aaaaaa\", line_width=4)\n",
    "r_real_sum_plot = r_prod_plot.line(x=[0., 1.], y=[0., 0.], color=\"#2222aa\", line_width=2)\n",
    "r_imag_sum_plot = r_prod_plot.line(x=[0., 1.], y=[0., 0.], color=\"#aa2222\", line_width=2)\n",
    "\n",
    "\n",
    "def update_reassignment_plot(freq=6., phi=0.):\n",
    "    sig = np.cos(freq * 2 * np.pi * x + phi)\n",
    "    \n",
    "    real_prod = sig * real_analysis\n",
    "    imag_prod = sig * imag_analysis\n",
    "    real_sum = np.sum(real_prod) / l\n",
    "    imag_sum = np.sum(imag_prod) / l\n",
    "    abs_sum = np.sqrt(real_sum**2 + imag_sum**2)\n",
    "    \n",
    "    signal_plot.data_source.data['y'] = sig\n",
    "    real_product_plot.data_source.data['y'] = real_prod\n",
    "    imag_product_plot.data_source.data['y'] = imag_prod\n",
    "    real_sum_plot.data_source.data['y'] = [real_sum, real_sum]\n",
    "    imag_sum_plot.data_source.data['y'] = [imag_sum, imag_sum]\n",
    "    imag_sum_plot.data_source.data['y'] = [imag_sum, imag_sum]\n",
    "    abs_sum_plot.data_source.data['y'] = [abs_sum, abs_sum]\n",
    "    \n",
    "    r_real_prod = sig * r_real_analysis\n",
    "    r_imag_prod = sig * r_imag_analysis\n",
    "    r_real_sum = np.sum(r_real_prod) / l\n",
    "    r_imag_sum = np.sum(r_imag_prod) / l\n",
    "    r_abs_sum = np.sqrt(r_real_sum**2 + r_imag_sum**2)\n",
    "    \n",
    "    r_signal_plot.data_source.data['y'] = sig\n",
    "    r_real_product_plot.data_source.data['y'] = r_real_prod\n",
    "    r_imag_product_plot.data_source.data['y'] = r_imag_prod\n",
    "    r_real_sum_plot.data_source.data['y'] = [r_real_sum, r_real_sum]\n",
    "    r_imag_sum_plot.data_source.data['y'] = [r_imag_sum, r_imag_sum]\n",
    "    r_abs_sum_plot.data_source.data['y'] = [r_abs_sum, r_abs_sum]\n",
    "    \n",
    "    push_notebook()    \n",
    "    \n",
    "show(grid, notebook_handle=True)"
   ]
  },
  {
   "cell_type": "code",
   "execution_count": null,
   "metadata": {},
   "outputs": [],
   "source": [
    "interact(update_reassignment_plot, freq=(0., 10., 0.1), phi=(0, 6.28, 0.1))"
   ]
  },
  {
   "cell_type": "markdown",
   "metadata": {},
   "source": [
    "freq: 5.5\n",
    "phi: 0\n",
    "\n",
    "freq: 6.5\n",
    "phi: 4.5"
   ]
  },
  {
   "cell_type": "markdown",
   "metadata": {},
   "source": [
    "### STFT Reassignment"
   ]
  },
  {
   "cell_type": "code",
   "execution_count": null,
   "metadata": {},
   "outputs": [],
   "source": [
    "def hann_t(n):\n",
    "    '''\n",
    "    time weighed hann window\n",
    "    '''\n",
    "    x = np.linspace(-1, 1, n, endpoint=False)\n",
    "    return x * (np.cos(np.pi * x)*0.5 + 0.5)\n",
    "\n",
    "def hann_dt(n):\n",
    "    '''\n",
    "    time derivative of the hann window\n",
    "    '''\n",
    "    x = np.linspace(0, 2, n, endpoint=False)\n",
    "    return 0.5 * np.sin(np.pi * x)"
   ]
  },
  {
   "cell_type": "code",
   "execution_count": null,
   "metadata": {},
   "outputs": [],
   "source": [
    "def stft_reassignment(x, \n",
    "                      n_fft=512, \n",
    "                      hop_length=None, \n",
    "                      sr=22050, \n",
    "                      reassignment_hop_length=None,\n",
    "                      reassignment_n_fft=None):\n",
    "    stft = lr.core.stft(x, n_fft, hop_length, window='hann')\n",
    "    stft_abs = np.abs(stft)\n",
    "    stft_sq = stft_abs**2\n",
    "    stft_t = lr.core.stft(x, n_fft, hop_length, window=hann_t)\n",
    "    stft_dt = lr.core.stft(x, n_fft, hop_length, window=hann_dt)\n",
    "    \n",
    "    if reassignment_hop_length is None:\n",
    "        reassignment_hop_length = hop_length\n",
    "        \n",
    "    if reassignment_n_fft is None:\n",
    "        reassignment_n_fft = n_fft\n",
    "    \n",
    "    n_bins = stft.shape[0]\n",
    "    time_steps = stft.shape[1]\n",
    "    reassignment_bins = math.ceil(n_bins * (reassignment_n_fft / n_fft))\n",
    "    reassignment_time_steps = math.ceil(time_steps * (hop_length / reassignment_hop_length))\n",
    "    print(\"rs time steps\", reassignment_time_steps)\n",
    "    \n",
    "    frequencies = lr.core.fft_frequencies(sr=sr, n_fft=n_fft)\n",
    "    fmin = frequencies[1]\n",
    "    \n",
    "    bin_factor = reassignment_n_fft / n_fft\n",
    "    print(\"bin factor\", bin_factor)\n",
    "    time_factor = reassignment_time_steps / time_steps\n",
    "    print(\"time factor\", time_factor)\n",
    "    \n",
    "    frequency_shifts = np.imag(stft_dt * np.conj(stft)) / stft_sq\n",
    "    frequency_shifts = np.nan_to_num(frequency_shifts) * fmin\n",
    "    \n",
    "    time_shifts = np.real(stft_t * np.conj(stft)) / stft_sq\n",
    "    time_shifts = np.nan_to_num(time_shifts) * (n_fft / hop_length) * 0.5 * time_factor\n",
    "    \n",
    "    reassigned_stft = np.zeros([reassignment_bins, reassignment_time_steps])\n",
    "    \n",
    "    for b in range(n_bins):\n",
    "        for t in range(time_steps):\n",
    "            f_bin = math.floor(b * bin_factor)\n",
    "            t_bin = math.floor(t * time_factor)\n",
    "            if stft_sq[b, t] > 0.01:\n",
    "                freq = frequencies[b] + frequency_shifts[b, t]\n",
    "                f_bin = math.floor(bin_factor * freq / fmin + 0.5)\n",
    "                f_bin = min(max(f_bin, 0), reassignment_bins-1)\n",
    "                #print(\"freq: \" + str(frequencies[b]) + \n",
    "                #      \", freq_shift: \" + str(frequency_shifts[b, t]) + \n",
    "                #      \", f_bin: \" + str(f_bin))\n",
    "                \n",
    "                t_bin = math.floor(t * time_factor + time_shifts[b, t] + 0.5)\n",
    "                t_bin = min(max(t_bin, 0), reassignment_time_steps-1)\n",
    "            else:\n",
    "                frequency_shifts[b, t] = 0\n",
    "                time_shifts[b, t] = 0\n",
    "\n",
    "            reassigned_stft[f_bin, t_bin] += stft_abs[b, t] \n",
    "    return reassigned_stft"
   ]
  },
  {
   "cell_type": "code",
   "execution_count": null,
   "metadata": {},
   "outputs": [],
   "source": [
    "signal = voice\n",
    "n_fft = 1024\n",
    "hop_length = 128\n",
    "reassignment_hop_length=64\n",
    "reassignment_n_fft=1024\n",
    "reassigned_stft = stft_reassignment(signal, \n",
    "                                    n_fft, \n",
    "                                    hop_length=hop_length, \n",
    "                                    sr=sr,\n",
    "                                    reassignment_hop_length=reassignment_hop_length,\n",
    "                                    reassignment_n_fft=reassignment_n_fft)\n",
    "\n",
    "fig, ax = plt.subplots(1, 1, figsize=[plot_scale*8, plot_scale*8])\n",
    "lr.display.specshow(lr.amplitude_to_db(reassigned_stft**2, ref=np.max),\n",
    "                    y_axis='linear', x_axis='time', hop_length=reassignment_hop_length, sr=sr)\n",
    "plt.show()\n",
    "Audio(signal, rate=sr)"
   ]
  },
  {
   "cell_type": "markdown",
   "metadata": {},
   "source": [
    "### CQT Reassignment"
   ]
  },
  {
   "cell_type": "code",
   "execution_count": null,
   "metadata": {},
   "outputs": [],
   "source": [
    "def cqt_reassignment(x, \n",
    "                     sr=22050, \n",
    "                     hop_length=512, \n",
    "                     fmin=lr.note_to_hz('C1'), \n",
    "                     n_bins=84, \n",
    "                     bins_per_octave=12, \n",
    "                     tuning=0.0, \n",
    "                     filter_scale=1,\n",
    "                     reassignment_hop_length=None,\n",
    "                     reassignment_bins_per_octave=None):\n",
    "    \n",
    "    # frequencies and filter lengths of the constant q filters\n",
    "    frequencies = lr.core.cqt_frequencies(n_bins, fmin, bins_per_octave, tuning)\n",
    "    filter_lengths = lr.filters.constant_q_lengths(sr, fmin, n_bins, bins_per_octave, tuning, 'hann', filter_scale).reshape(-1, 1)\n",
    "    \n",
    "    scaling = (1/filter_lengths**0.5)\n",
    "    scaling = scaling.reshape(-1,1)\n",
    "    \n",
    "    # ordinary constant q transform\n",
    "    cqt = lr.core.cqt(x, sr=sr, hop_length=hop_length, fmin=fmin, n_bins=n_bins, \n",
    "                      bins_per_octave=bins_per_octave, tuning=tuning, filter_scale=filter_scale,\n",
    "                      window='hann', scale=False, norm=np.inf) * scaling\n",
    "    \n",
    "    # cqt with time weighed window for time reassignment\n",
    "    cqt_t = lr.core.cqt(x, sr=sr, hop_length=hop_length, fmin=fmin, n_bins=n_bins, \n",
    "                        bins_per_octave=bins_per_octave, tuning=tuning, filter_scale=filter_scale,\n",
    "                        window=hann_t, scale=False, norm=np.inf) * scaling\n",
    "    \n",
    "    # cqt with time derivative window for frequency reassignment\n",
    "    cqt_dt = lr.core.cqt(x, sr=sr, hop_length=hop_length, fmin=fmin, n_bins=n_bins, \n",
    "                         bins_per_octave=bins_per_octave, tuning=tuning, filter_scale=filter_scale,\n",
    "                         window=hann_dt, scale=False, norm=np.inf) * scaling \n",
    "    \n",
    "    time_steps = cqt.shape[1]\n",
    "    \n",
    "    if reassignment_hop_length is None:\n",
    "        reassignment_hop_length = hop_length\n",
    "        \n",
    "    if reassignment_bins_per_octave is None:\n",
    "        reassignment_bins_per_octave = bins_per_octave\n",
    "        \n",
    "    reassignment_bins = math.ceil(n_bins * (reassignment_bins_per_octave / bins_per_octave))\n",
    "    reassignment_time_steps = math.ceil(time_steps * (hop_length / reassignment_hop_length))\n",
    "    \n",
    "    cqt_abs = np.abs(cqt)\n",
    "    cqt_sq = cqt_abs**2\n",
    "    \n",
    "    frequency_shifts =  np.imag(cqt_dt * np.conj(cqt)) / (filter_lengths * cqt_sq)\n",
    "    frequency_shifts = np.nan_to_num(frequency_shifts) * sr * 0.5 \n",
    "    \n",
    "    time_shifts = np.real(filter_lengths * cqt_t * np.conj(cqt) / cqt_sq)\n",
    "    time_shifts = np.nan_to_num(time_shifts) / reassignment_hop_length * 0.131\n",
    "    \n",
    "    reassigned_cqt = np.zeros([reassignment_bins, reassignment_time_steps])\n",
    "    oct_min = lr.hz_to_octs(fmin)\n",
    "    \n",
    "    bin_factor = reassignment_bins / n_bins\n",
    "    time_factor = reassignment_time_steps / time_steps\n",
    "    \n",
    "    # fill the reassignmed scalogram\n",
    "    for b in range(n_bins):\n",
    "        for t in range(time_steps):\n",
    "            f_bin = math.floor(b * bin_factor)\n",
    "            t_bin = math.floor(t * time_factor)\n",
    "            \n",
    "            if cqt_abs[b, t] > 1.: # only reassign if there is enough energy\n",
    "                freq = frequencies[b] + frequency_shifts[b, t]\n",
    "                freq = max(freq, fmin)\n",
    "                f_bin = math.floor((lr.hz_to_octs(freq) - oct_min) * reassignment_bins_per_octave + 0.5)\n",
    "                f_bin = min(max(f_bin, 0), reassignment_bins-1)\n",
    "                \n",
    "                t_bin = math.floor(t * time_factor + time_shifts[b, t] + 0.5)\n",
    "                t_bin = min(max(t_bin, 0), reassignment_time_steps-1)\n",
    "\n",
    "            reassigned_cqt[f_bin, t_bin] += cqt_abs[b, t] \n",
    "            \n",
    "    return reassigned_cqt"
   ]
  },
  {
   "cell_type": "code",
   "execution_count": null,
   "metadata": {},
   "outputs": [],
   "source": [
    "signal = voice\n",
    "bins_per_octave=48\n",
    "octaves = 7\n",
    "fmin = 50.\n",
    "hop_length=128\n",
    "filter_scale = 0.5\n",
    "reassignment_hop_length=64\n",
    "reassignment_bins_per_octave=72\n",
    "\n",
    "reassigned_cqt = cqt_reassignment(signal, \n",
    "                                  sr=sr, \n",
    "                                  n_bins=octaves*bins_per_octave, \n",
    "                                  bins_per_octave=bins_per_octave,\n",
    "                                  filter_scale=filter_scale, \n",
    "                                  hop_length=hop_length,\n",
    "                                  fmin=fmin,\n",
    "                                  reassignment_hop_length=reassignment_hop_length,\n",
    "                                  reassignment_bins_per_octave=reassignment_bins_per_octave)   \n",
    "\n",
    "fig, ax = plt.subplots(1, 1, figsize=[plot_scale*8, plot_scale*8])\n",
    "lr.display.specshow(lr.amplitude_to_db(reassigned_cqt**1.2, ref=np.max),\n",
    "                    y_axis='cqt_note', x_axis='time', hop_length=reassignment_hop_length, sr=sr, bins_per_octave=reassignment_bins_per_octave,\n",
    "                    fmin=fmin, cmap='magma')\n",
    "plt.show()\n",
    "Audio(signal, rate=sr)"
   ]
  },
  {
   "cell_type": "markdown",
   "metadata": {},
   "source": [
    "*Quellen:*\n",
    "\n",
    "F. Auger, P. Flandrin “Improving the Readability of Time-Frequency and Time-Scale Representations by the Reassignment Method” IEEE Transactions on Signal Processing, Vol. 43, No. 5, pp. 1068-89, 1995.\n",
    "\n",
    "\n",
    "F. Auger, P. Flandrin, Y. Lin, S. Mclaughlin, S. Meignen, et al.. \"Time- Frequency Reassignment and Synchrosqueezing: An overview\" IEEE Signal Processing Magazine, In- stitute of Electrical and Electronics Engineers, 30 (6), pp. 32-41, 2013."
   ]
  },
  {
   "cell_type": "code",
   "execution_count": null,
   "metadata": {},
   "outputs": [],
   "source": []
  }
 ],
 "metadata": {
  "anaconda-cloud": {},
  "kernelspec": {
   "display_name": "Python [conda root]",
   "language": "python",
   "name": "conda-root-py"
  },
  "language_info": {
   "codemirror_mode": {
    "name": "ipython",
    "version": 3
   },
   "file_extension": ".py",
   "mimetype": "text/x-python",
   "name": "python",
   "nbconvert_exporter": "python",
   "pygments_lexer": "ipython3",
   "version": "3.5.4"
  },
  "toc": {
   "base_numbering": 1,
   "nav_menu": {
    "height": "123px",
    "width": "244px"
   },
   "number_sections": false,
   "sideBar": true,
   "skip_h1_title": false,
   "title_cell": "Table of Contents",
   "title_sidebar": "Contents",
   "toc_cell": false,
   "toc_position": {
    "height": "calc(100% - 180px)",
    "left": "10px",
    "top": "150px",
    "width": "242px"
   },
   "toc_section_display": true,
   "toc_window_display": true
  },
  "widgets": {
   "state": {
    "1b09ca6709d94eb48759042ed6c0c1ec": {
     "views": [
      {
       "cell_index": 52
      }
     ]
    },
    "392392310c9044018cb74def8882ba64": {
     "views": [
      {
       "cell_index": 55
      }
     ]
    },
    "bd42f0e84b12432ca72fbe909389c47e": {
     "views": [
      {
       "cell_index": 7
      }
     ]
    }
   },
   "version": "1.2.0"
  }
 },
 "nbformat": 4,
 "nbformat_minor": 1
}
